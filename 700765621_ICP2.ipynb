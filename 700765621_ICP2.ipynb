{
  "nbformat": 4,
  "nbformat_minor": 0,
  "metadata": {
    "colab": {
      "provenance": []
    },
    "kernelspec": {
      "name": "python3",
      "display_name": "Python 3"
    },
    "language_info": {
      "name": "python"
    }
  },
  "cells": [
    {
      "cell_type": "markdown",
      "source": [
        "Balavardhan Reddy Kotla\n",
        "\n",
        "700765621\n"
      ],
      "metadata": {
        "id": "Us8G6fUUKwdn"
      }
    },
    {
      "cell_type": "markdown",
      "source": [
        "1.Create a class Employee and then do the following:                                     \n"
      ],
      "metadata": {
        "id": "8fXofWx7L5Z0"
      }
    },
    {
      "cell_type": "markdown",
      "source": [
        "\n",
        "• Create a data member to count the number of Employees\n",
        "\n",
        "• Create a constructor to initialize name, family, salary, department\n",
        "\n",
        "• Create a function to average salary\n",
        "\n",
        "• Create a Fulltime Employee class and it should inherit the properties of Employee class\n",
        "\n",
        "• Create the instances of Fulltime Employee class and Employee class and call their member functions."
      ],
      "metadata": {
        "id": "Z06fbnuIMgc4"
      }
    },
    {
      "cell_type": "code",
      "execution_count": 12,
      "metadata": {
        "colab": {
          "base_uri": "https://localhost:8080/"
        },
        "id": "2EDXbfClIIpf",
        "outputId": "139284bd-de7b-4b30-9d59-aa20f57522c9"
      },
      "outputs": [
        {
          "output_type": "stream",
          "name": "stdout",
          "text": [
            "Average Salary for Employees: 47500.0\n",
            "Average Salary for Fulltime Employees: 33750.0\n"
          ]
        }
      ],
      "source": [
        "class Employee:\n",
        "    employee_count = 0  # Data member to count the number of Employees\n",
        "\n",
        "    def __init__(self, name, family, salary, department):\n",
        "        self.name = name\n",
        "        self.family = family\n",
        "        self.salary = salary\n",
        "        self.department = department\n",
        "        Employee.employee_count += 1\n",
        "\n",
        "    def average_salary(self, total_salary):\n",
        "        return total_salary / Employee.employee_count\n",
        "\n",
        "class FulltimeEmployee(Employee):\n",
        "    # Inheriting properties from the Employee class\n",
        "    pass\n",
        "\n",
        "# Creating instances of Employee class\n",
        "employee1 = Employee(\"Balavardhan\", \"Reddy\", 100000, \"Manager\")\n",
        "employee2 = Employee(\"Rajeshekar\", \"Konam\", 90000, \"IT\")\n",
        "\n",
        "# Creating instances of FulltimeEmployee class\n",
        "fulltime_employee1 = FulltimeEmployee(\"Madhu\", \"Naidu\", 75000, \"Finance\")\n",
        "fulltime_employee2 = FulltimeEmployee(\"Keshav\", \"Shiva\", 60000, \"Marketing\")\n",
        "\n",
        "# Calling member functions\n",
        "total_salary_employees = employee1.salary + employee2.salary\n",
        "average_salary_employees = employee1.average_salary(total_salary_employees)\n",
        "\n",
        "total_salary_fulltime_employees = fulltime_employee1.salary + fulltime_employee2.salary\n",
        "average_salary_fulltime_employees = fulltime_employee1.average_salary(total_salary_fulltime_employees)\n",
        "\n",
        "# Displaying results\n",
        "print(\"Average Salary for Employees:\", average_salary_employees)\n",
        "print(\"Average Salary for Fulltime Employees:\", average_salary_fulltime_employees)\n",
        "\n"
      ]
    },
    {
      "cell_type": "markdown",
      "source": [
        "2.Numpy\n"
      ],
      "metadata": {
        "id": "orWKO-eIMVys"
      }
    },
    {
      "cell_type": "markdown",
      "source": [
        "Using NumPy create random vector of size 20 having only float in the range 1-20.\n",
        "\n",
        "Then reshape the array to 4 by 5\n",
        "\n",
        "Then replace the max in each row by 0 (axis=1)\n"
      ],
      "metadata": {
        "id": "pofyiiZDMlXu"
      }
    },
    {
      "cell_type": "code",
      "source": [
        "# Import the NumPy library and alias it as 'np' for brevity and convention.\n",
        "import numpy as np\n",
        "\n",
        "# Create a random vector of size 20 with floats in the range 1-20\n",
        "random_vector = np.random.uniform(1, 20, 20)\n",
        "\n",
        "print(\"Original Random Vector:\\n\", random_vector)"
      ],
      "metadata": {
        "colab": {
          "base_uri": "https://localhost:8080/"
        },
        "id": "14V2RR9YIZ_W",
        "outputId": "4647f8b2-7d62-4bf7-838d-e5cb94e2bafe"
      },
      "execution_count": 13,
      "outputs": [
        {
          "output_type": "stream",
          "name": "stdout",
          "text": [
            "Original Random Vector:\n",
            " [18.69556441 14.26241785  3.91360268  6.20547516 16.15153446  7.24800678\n",
            " 10.80198082 10.01201219 12.34747453 18.66954418  8.42413274  9.20536204\n",
            " 16.96346026 16.15292809  1.59798838  3.70058292 11.87997498 10.53542801\n",
            " 11.13463086 17.85151064]\n"
          ]
        }
      ]
    },
    {
      "cell_type": "code",
      "source": [
        "# Reshape the array to 4 by 5 (4 rows and 5 columns)\n",
        "reshaped_array = random_vector.reshape(4, 5)\n",
        "\n",
        "print(reshaped_array)"
      ],
      "metadata": {
        "colab": {
          "base_uri": "https://localhost:8080/"
        },
        "id": "wI8zxmJNJftO",
        "outputId": "bdad7d9d-b295-4f8d-e2d5-26face91733d"
      },
      "execution_count": 14,
      "outputs": [
        {
          "output_type": "stream",
          "name": "stdout",
          "text": [
            "[[18.69556441 14.26241785  3.91360268  6.20547516 16.15153446]\n",
            " [ 7.24800678 10.80198082 10.01201219 12.34747453 18.66954418]\n",
            " [ 8.42413274  9.20536204 16.96346026 16.15292809  1.59798838]\n",
            " [ 3.70058292 11.87997498 10.53542801 11.13463086 17.85151064]]\n"
          ]
        }
      ]
    },
    {
      "cell_type": "code",
      "source": [
        "\n",
        "# Replace the max in each row by 0 (axis=1)\n",
        "reshaped_array[np.arange(4), reshaped_array.argmax(axis=1)] = 0\n",
        "\n",
        "print(\"Reshaped Array:\\n\", reshaped_array)"
      ],
      "metadata": {
        "colab": {
          "base_uri": "https://localhost:8080/"
        },
        "id": "1Hkj08dpKmyY",
        "outputId": "a3821080-3fa0-465b-8584-27058d411bbe"
      },
      "execution_count": 15,
      "outputs": [
        {
          "output_type": "stream",
          "name": "stdout",
          "text": [
            "Reshaped Array:\n",
            " [[ 0.         14.26241785  3.91360268  6.20547516 16.15153446]\n",
            " [ 7.24800678 10.80198082 10.01201219 12.34747453  0.        ]\n",
            " [ 8.42413274  9.20536204  0.         16.15292809  1.59798838]\n",
            " [ 3.70058292 11.87997498 10.53542801 11.13463086  0.        ]]\n"
          ]
        }
      ]
    }
  ]
}